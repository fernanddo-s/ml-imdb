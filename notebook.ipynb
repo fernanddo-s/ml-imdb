{
 "cells": [
  {
   "cell_type": "code",
   "execution_count": 1,
   "metadata": {},
   "outputs": [
    {
     "name": "stdout",
     "output_type": "stream",
     "text": [
      "Acurácia: 0.8488\n",
      "Precisão: 0.8730696001692405\n",
      "Recall: 0.8190117086723556\n",
      "F1-Score: 0.8451771451976243\n"
     ]
    }
   ],
   "source": [
    "import pandas as pd\n",
    "from sklearn.model_selection import train_test_split\n",
    "from sklearn.feature_extraction.text import CountVectorizer\n",
    "from sklearn.naive_bayes import MultinomialNB\n",
    "from sklearn import metrics\n",
    "\n",
    "# Passo 1: Pré-processamento dos dados\n",
    "# Carregar o conjunto de dados\n",
    "df = pd.read_csv('dataset.csv')  # Substitua 'seu_dataset.csv' pelo nome do seu arquivo CSV\n",
    "\n",
    "# Tratamento de valores ausentes (se necessário)\n",
    "# df = df.dropna()\n",
    "\n",
    "# Passo 2: Divisão do conjunto de dados\n",
    "# Separação dos recursos e rótulos\n",
    "X = df['review']  # Recursos (reviews)\n",
    "y = df['sentiment']  # Rótulos (sentimento)\n",
    "\n",
    "# Divisão em conjunto de treino e teste\n",
    "X_train, X_test, y_train, y_test = train_test_split(X, y, test_size=0.2, random_state=42)\n",
    "\n",
    "# Passo 3: Vetorização dos dados de texto\n",
    "# Vetorização usando a contagem de palavras\n",
    "vectorizer = CountVectorizer()\n",
    "X_train_vectorized = vectorizer.fit_transform(X_train)\n",
    "X_test_vectorized = vectorizer.transform(X_test)\n",
    "\n",
    "# Passo 4: Escolha e treinamento do algoritmo de classificação\n",
    "# Criação e treinamento do modelo Naive Bayes\n",
    "model = MultinomialNB()\n",
    "model.fit(X_train_vectorized, y_train)\n",
    "\n",
    "# Passo 5: Avaliação do modelo\n",
    "# Previsões no conjunto de teste\n",
    "y_pred = model.predict(X_test_vectorized)\n",
    "\n",
    "# Avaliação do desempenho do modelo\n",
    "accuracy = metrics.accuracy_score(y_test, y_pred)\n",
    "precision = metrics.precision_score(y_test, y_pred, pos_label='positive')\n",
    "recall = metrics.recall_score(y_test, y_pred, pos_label='positive')\n",
    "f1_score = metrics.f1_score(y_test, y_pred, pos_label='positive')\n",
    "\n",
    "print(\"Acurácia:\", accuracy)\n",
    "print(\"Precisão:\", precision)\n",
    "print(\"Recall:\", recall)\n",
    "print(\"F1-Score:\", f1_score)\n"
   ]
  }
 ],
 "metadata": {
  "kernelspec": {
   "display_name": "Python 3",
   "language": "python",
   "name": "python3"
  },
  "language_info": {
   "codemirror_mode": {
    "name": "ipython",
    "version": 3
   },
   "file_extension": ".py",
   "mimetype": "text/x-python",
   "name": "python",
   "nbconvert_exporter": "python",
   "pygments_lexer": "ipython3",
   "version": "3.11.3"
  },
  "orig_nbformat": 4
 },
 "nbformat": 4,
 "nbformat_minor": 2
}
